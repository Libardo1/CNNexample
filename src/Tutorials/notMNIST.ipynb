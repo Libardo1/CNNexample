{
 "cells": [
  {
   "cell_type": "markdown",
   "metadata": {},
   "source": [
    "# CNN Example: notMNIST dataset "
   ]
  },
  {
   "cell_type": "markdown",
   "metadata": {},
   "source": [
    "The [notMNIST](http://yaroslavvb.blogspot.com.br/2011/09/notmnist-dataset.html) dataset is a example similar to MNIST. The data consists of characters rendered in a variety of fonts on a 28x28 image. The labels are limited to 'A' through 'J' (10 classes)."
   ]
  },
  {
   "cell_type": "code",
   "execution_count": 17,
   "metadata": {
    "collapsed": false
   },
   "outputs": [],
   "source": [
    "import os\n",
    "import sys\n",
    "import tensorflow as tf\n",
    "import inspect\n",
    "import matplotlib.pyplot as plt\n",
    "import numpy as np\n",
    "currentdir = os.path.dirname(os.path.abspath(inspect.getfile(inspect.currentframe())))\n",
    "parentdir = os.path.dirname(currentdir)\n",
    "sys.path.insert(0, parentdir)\n",
    "\n",
    "from util import get_data_4d, plot9images,randomize_in_place\n",
    "from CNN import CNNModel, train_model,check_test,one_prediction\n",
    "from DataHolder import DataHolder\n",
    "from Config import Config\n"
   ]
  },
  {
   "cell_type": "markdown",
   "metadata": {},
   "source": [
    "### Importing all the data"
   ]
  },
  {
   "cell_type": "code",
   "execution_count": 2,
   "metadata": {
    "collapsed": false
   },
   "outputs": [
    {
     "name": "stdout",
     "output_type": "stream",
     "text": [
      "Training: (200000, 28, 28, 1) (200000, 10)\n",
      "Validation: (10000, 28, 28, 1) (10000, 10)\n",
      "Testing: (10000, 28, 28, 1) (10000, 10)\n"
     ]
    }
   ],
   "source": [
    "train_dataset, train_labels, valid_dataset, valid_labels, test_dataset, test_labels = get_data_4d()\n",
    "print('Training:', train_dataset.shape, train_labels.shape)\n",
    "print('Validation:', valid_dataset.shape, valid_labels.shape)\n",
    "print('Testing:', test_dataset.shape, test_labels.shape)"
   ]
  },
  {
   "cell_type": "markdown",
   "metadata": {},
   "source": [
    "### Visualizing some examples"
   ]
  },
  {
   "cell_type": "code",
   "execution_count": 3,
   "metadata": {
    "collapsed": false
   },
   "outputs": [
    {
     "data": {
      "image/png": "[encoded data removed]",
      "text/plain": [
       "<matplotlib.figure.Figure at 0x7fef108f1fd0>"
      ]
     },
     "metadata": {},
     "output_type": "display_data"
    }
   ],
   "source": [
    "train_classes = np.argmax(train_labels, axis=1)\n",
    "train_classes = [chr(i + ord('A')) for i in train_classes]\n",
    "img_size = 28\n",
    "img_shape = (img_size, img_size)\n",
    "images = train_dataset[0:9]\n",
    "cls_true = train_classes[0:9]\n",
    "plot9images(images, cls_true, img_shape)  "
   ]
  },
  {
   "cell_type": "markdown",
   "metadata": {},
   "source": [
    "## The hyperparameters of the model are"
   ]
  },
  {
   "cell_type": "code",
   "execution_count": 10,
   "metadata": {
    "collapsed": false
   },
   "outputs": [
    {
     "name": "stdout",
     "output_type": "stream",
     "text": [
      "batch_size = 140\n",
      "patch_size = 5\n",
      "image_size = 28\n",
      "num_labels = 10\n",
      "num_channels = 1\n",
      "num_filters_1 = 16\n",
      "num_filters_2 = 32\n",
      "hidden_nodes_1 = 60\n",
      "hidden_nodes_2 = 40\n",
      "hidden_nodes_3 = 20\n",
      "learning_rate = 0.9\n",
      "steps_for_decay = 100\n",
      "decay_rate = 0.96\n"
     ]
    }
   ],
   "source": [
    "my_config = Config()\n",
    "print(\"batch_size = {}\".format(my_config.batch_size))\n",
    "print(\"patch_size = {}\".format(my_config.patch_size))\n",
    "print(\"image_size = {}\".format(my_config.image_size))\n",
    "print(\"num_labels = {}\".format(my_config.num_labels))\n",
    "print(\"num_channels = {}\".format(my_config.num_channels))\n",
    "print(\"num_filters_1 = {}\".format(my_config.num_filters_1))\n",
    "print(\"num_filters_2 = {}\".format(my_config.num_filters_2))\n",
    "print(\"hidden_nodes_1 = {}\".format(my_config.hidden_nodes_1))\n",
    "print(\"hidden_nodes_2 = {}\".format(my_config.hidden_nodes_2))\n",
    "print(\"hidden_nodes_3 = {}\".format(my_config.hidden_nodes_3))\n",
    "print(\"learning_rate = {}\".format(my_config.learning_rate))\n",
    "print(\"steps_for_decay = {}\".format(my_config.steps_for_decay))\n",
    "print(\"decay_rate = {}\".format(my_config.decay_rate))"
   ]
  },
  {
   "cell_type": "markdown",
   "metadata": {},
   "source": [
    "## Now, training the model using 10001 steps"
   ]
  },
  {
   "cell_type": "code",
   "execution_count": 14,
   "metadata": {
    "collapsed": false
   },
   "outputs": [
    {
     "name": "stdout",
     "output_type": "stream",
     "text": [
      "Start training\n",
      "Minibatch loss at step 0: 2.315698\n",
      "Minibatch accuracy: 12.14%\n",
      "Test accuracy: 10.00%*\n",
      "Duration: 0.522 sec\n",
      "Minibatch loss at step 1000: 0.379443\n",
      "Minibatch accuracy: 87.14%\n",
      "Test accuracy: 94.13%*\n",
      "Duration: 0.113 sec\n",
      "Minibatch loss at step 2000: 0.320652\n",
      "Minibatch accuracy: 91.43%\n",
      "Test accuracy: 94.78%*\n",
      "Duration: 0.098 sec\n",
      "Minibatch loss at step 3000: 0.374173\n",
      "Minibatch accuracy: 87.14%\n",
      "Test accuracy: 95.74%*\n",
      "Duration: 0.099 sec\n",
      "Minibatch loss at step 4000: 0.338099\n",
      "Minibatch accuracy: 90.71%\n",
      "Test accuracy: 95.69%\n",
      "Duration: 0.098 sec\n",
      "Minibatch loss at step 5000: 0.312986\n",
      "Minibatch accuracy: 89.29%\n",
      "Test accuracy: 96.06%*\n",
      "Duration: 0.094 sec\n",
      "Minibatch loss at step 6000: 0.298959\n",
      "Minibatch accuracy: 90.71%\n",
      "Test accuracy: 96.22%*\n",
      "Duration: 0.092 sec\n",
      "Minibatch loss at step 7000: 0.234543\n",
      "Minibatch accuracy: 92.86%\n",
      "Test accuracy: 96.24%*\n",
      "Duration: 0.099 sec\n",
      "Minibatch loss at step 8000: 0.197667\n",
      "Minibatch accuracy: 92.86%\n",
      "Test accuracy: 96.21%\n",
      "Duration: 0.098 sec\n",
      "Minibatch loss at step 9000: 0.195087\n",
      "Minibatch accuracy: 95.00%\n",
      "Test accuracy: 96.28%*\n",
      "Duration: 0.096 sec\n",
      "Minibatch loss at step 10000: 0.279990\n",
      "Minibatch accuracy: 91.43%\n",
      "Test accuracy: 96.38%*\n",
      "Duration: 0.090 sec\n",
      "\n",
      "&&&&&&&&& #training steps = 10001 &&&&&&&&&&&\n",
      "training time: 0:0:17:18 (DAYS:HOURS:MIN:SEC)\n",
      "\n",
      "&&&&&&&&& For TensorBoard visualization type &&&&&&&&&&&\n",
      "\n",
      "tensorboard  --logdir=logs/22-04-2017_15-20-37\n",
      "\n"
     ]
    }
   ],
   "source": [
    "my_dataholder = DataHolder(train_dataset,\n",
    "                           train_labels,\n",
    "                           valid_dataset,\n",
    "                           valid_labels,\n",
    "                           test_dataset,\n",
    "                           test_labels)\n",
    "my_model = CNNModel(my_config, my_dataholder)\n",
    "train_model(my_model, my_dataholder, num_steps=10001, show_step=1000)"
   ]
  },
  {
   "cell_type": "markdown",
   "metadata": {},
   "source": [
    "## Cheking the trained model with the test dataset"
   ]
  },
  {
   "cell_type": "code",
   "execution_count": 18,
   "metadata": {
    "collapsed": false
   },
   "outputs": [
    {
     "name": "stdout",
     "output_type": "stream",
     "text": [
      "Test accuracy: 96.38%\n"
     ]
    }
   ],
   "source": [
    "print(\"Test accuracy: %.2f%%\" % (check_test(my_model) * 100))"
   ]
  },
  {
   "cell_type": "markdown",
   "metadata": {},
   "source": [
    "## Seeing the model perform in 9 images from the valid dataset"
   ]
  },
  {
   "cell_type": "code",
   "execution_count": 21,
   "metadata": {
    "collapsed": false
   },
   "outputs": [
    {
     "data": {
      "image/png": "[encoded data removed]",
      "text/plain": [
       "<matplotlib.figure.Figure at 0x7feed93936a0>"
      ]
     },
     "metadata": {},
     "output_type": "display_data"
    }
   ],
   "source": [
    "randomize_in_place(valid_dataset, valid_labels, 0)\n",
    "valid_classes = np.argmax(valid_labels, axis=1)\n",
    "valid_classes = [chr(i + ord('A')) for i in valid_classes]\n",
    "cls_true = valid_classes[0:9]\n",
    "images = valid_dataset[0:9]\n",
    "images = [image.reshape(1,\n",
    "                        image.shape[0],\n",
    "                        image.shape[1],\n",
    "                        image.shape[2]) for image in images]\n",
    "predictions = [chr(one_prediction(my_model, image) + ord('A')) for image in images]\n",
    "plot9images(images, cls_true, img_shape)  \n"
   ]
  },
  {
   "cell_type": "code",
   "execution_count": null,
   "metadata": {
    "collapsed": true
   },
   "outputs": [],
   "source": []
  }
 ],
 "metadata": {
  "kernelspec": {
   "display_name": "Python 3",
   "language": "python",
   "name": "python3"
  },
  "language_info": {
   "codemirror_mode": {
    "name": "ipython",
    "version": 3
   },
   "file_extension": ".py",
   "mimetype": "text/x-python",
   "name": "python",
   "nbconvert_exporter": "python",
   "pygments_lexer": "ipython3",
   "version": "3.5.2"
  }
 },
 "nbformat": 4,
 "nbformat_minor": 1
}
